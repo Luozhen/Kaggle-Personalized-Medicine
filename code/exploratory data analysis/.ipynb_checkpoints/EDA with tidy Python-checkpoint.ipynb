{
 "cells": [
  {
   "cell_type": "markdown",
   "metadata": {},
   "source": [
    "# Personalised Medicine - EDA with tidy Python\n",
    "* 1 Introduction\n",
    "    + 1.1 Load libraries and data files\n",
    "* 2 The variants data tables\n",
    "    + 2.1 First table overviews of the data:\n",
    "    + 2.2 Individual feature visualisations\n",
    "    + 2.3 Feature interactions\n",
    "        - 2.3.1 Gene vs Class\n",
    "        - 2.3.2 Gene vs Variation\n",
    "* 3 The text files\n",
    "    + 3.1 Overview\n",
    "    + 3.2 On data cleaning and preparations\n",
    "    + 3.3 Feature Engineering\n",
    "        - 3.3.1 Text length - txt_len\n",
    "        - 3.3.2 Missing text values\n",
    "        - 3.3.3 Keyword frequency - pedestrian approach\n",
    "    + 3.4 First steps into text analysis with tidytext\n",
    "    + 3.5 Class-dependent word frequencies\n",
    "    + 3.6 TF-IDF analysis - basics and application\n",
    "    + 3.7 Word pair frequencies: n-grams\n",
    "    + 3.8 NEW: Networks of bigrams\n",
    "    + 3.9 Individual Class networks"
   ]
  },
  {
   "cell_type": "markdown",
   "metadata": {},
   "source": [
    "## 1 Introduction"
   ]
  },
  {
   "cell_type": "markdown",
   "metadata": {},
   "source": [
    "### 1.1 Load libraries and data files"
   ]
  },
  {
   "cell_type": "code",
   "execution_count": 1,
   "metadata": {
    "collapsed": true
   },
   "outputs": [],
   "source": [
    "import pandas as pd\n",
    "import numpy as np\n",
    "import matplotlib.pyplot as plt\n",
    "import matplotlib\n",
    "matplotlib.rcParams['figure.figsize'] = (16.0, 9.0)"
   ]
  },
  {
   "cell_type": "markdown",
   "metadata": {},
   "source": [
    "Reading in the variants data tables:"
   ]
  },
  {
   "cell_type": "code",
   "execution_count": 5,
   "metadata": {},
   "outputs": [
    {
     "name": "stderr",
     "output_type": "stream",
     "text": [
      "C:\\ProgramData\\Anaconda3\\lib\\site-packages\\ipykernel_launcher.py:5: ParserWarning: Falling back to the 'python' engine because the 'c' engine does not support regex separators (separators > 1 char and different from '\\s+' are interpreted as regex); you can avoid this warning by specifying engine='python'.\n",
      "  \"\"\"\n"
     ]
    },
    {
     "name": "stdout",
     "output_type": "stream",
     "text": [
      "        ID                                               Text\n",
      "0        0  Cyclin-dependent kinases (CDKs) regulate a var...\n",
      "1        1   Abstract Background  Non-small cell lung canc...\n",
      "2        2   Abstract Background  Non-small cell lung canc...\n",
      "3        3  Recent evidence has demonstrated that acquired...\n",
      "4        4  Oncogenic mutations in the monomeric Casitas B...\n",
      "5        5  Oncogenic mutations in the monomeric Casitas B...\n",
      "6        6  Oncogenic mutations in the monomeric Casitas B...\n",
      "7        7  CBL is a negative regulator of activated recep...\n",
      "8        8   Abstract Juvenile myelomonocytic leukemia (JM...\n",
      "9        9   Abstract Juvenile myelomonocytic leukemia (JM...\n",
      "10      10  Oncogenic mutations in the monomeric Casitas B...\n",
      "11      11  Noonan syndrome is an autosomal dominant conge...\n",
      "12      12  Noonan syndrome is an autosomal dominant conge...\n",
      "13      13  Noonan syndrome is an autosomal dominant conge...\n",
      "14      14  Oncogenic mutations in the monomeric Casitas B...\n",
      "15      15  Noonan syndrome is an autosomal dominant conge...\n",
      "16      16  To determine if residual cylindrical refractiv...\n",
      "17      17  Acquired uniparental disomy (aUPD) is a common...\n",
      "18      18  Oncogenic mutations in the monomeric Casitas B...\n",
      "19      19  Acquired uniparental disomy (aUPD) is a common...\n",
      "20      20   Abstract Background  Non-small cell lung canc...\n",
      "21      21  Oncogenic mutations in the monomeric Casitas B...\n",
      "22      22  Oncogenic mutations in the monomeric Casitas B...\n",
      "23      23  Recent evidence has demonstrated that acquired...\n",
      "24      24  Recent evidence has demonstrated that acquired...\n",
      "25      25  Recent evidence has demonstrated that acquired...\n",
      "26      26   Abstract N-myristoylation is a common form of...\n",
      "27      27  Heterozygous mutations in the telomerase compo...\n",
      "28      28  Sequencing studies have identified many recurr...\n",
      "29      29  Heterozygous mutations in the telomerase compo...\n",
      "...    ...                                                ...\n",
      "3291  3291  We investigatedthe transformingactivityofthe r...\n",
      "3292  3292  We investigatedthe transformingactivityofthe r...\n",
      "3293  3293  RET is a transmembrane tyrosine kinase partici...\n",
      "3294  3294  Introduction  Inherited germ line activating m...\n",
      "3295  3295  Many missense mutations in the RET proto-oncog...\n",
      "3296  3296  The RET proto-oncogene encodes a receptor tyro...\n",
      "3297  3297  THE AML1 GENE IS KNOWN as the most frequent ta...\n",
      "3298  3298  Introduction  Myelodysplastic syndromes (MDS) ...\n",
      "3299  3299  The BCR-ABL fusion protein generated by t(9;22...\n",
      "3300  3300  The most frequent mutations associated with le...\n",
      "3301  3301  The most frequent mutations associated with le...\n",
      "3302  3302  Familial platelet disorder with predisposition...\n",
      "3303  3303  Introduction  Myelodysplastic syndromes (MDS) ...\n",
      "3304  3304  Familial platelet disorder with predisposition...\n",
      "3305  3305  Introduction  Myelodysplastic syndromes (MDS) ...\n",
      "3306  3306  Here we report two new RUNX1 mutations in one ...\n",
      "3307  3307  The RUNX genes have come to prominence recentl...\n",
      "3308  3308   Familial platelet disorder with propensity to...\n",
      "3309  3309  The BCR-ABL fusion protein generated by t(9;22...\n",
      "3310  3310  RUNX proteins belong to a family of metazoan t...\n",
      "3311  3311  The AML1/EVI-1 chimeric gene is generated by t...\n",
      "3312  3312  Balanced chromosomal translocations are freque...\n",
      "3313  3313  The BCR-ABL fusion protein generated by t(9;22...\n",
      "3314  3314  Introduction  Myelodysplastic syndromes (MDS) ...\n",
      "3315  3315  The RUNX gene family includes three evolutiona...\n",
      "3316  3316  Introduction  Myelodysplastic syndromes (MDS) ...\n",
      "3317  3317  Introduction  Myelodysplastic syndromes (MDS) ...\n",
      "3318  3318  The Runt-related transcription factor 1 gene (...\n",
      "3319  3319  The RUNX1/AML1 gene is the most frequent targe...\n",
      "3320  3320  The most frequent mutations associated with le...\n",
      "\n",
      "[3321 rows x 2 columns]\n"
     ]
    }
   ],
   "source": [
    "address_prefix = 'E:/BigDataMatch/Kaggle-Personalized-Medicine/data/'\n",
    "train = pd.read_csv(address_prefix + 'training_variants')\n",
    "test = pd.read_csv(address_prefix + 'test_variants')\n",
    "\n",
    "# change source data from 'ID,Text' to 'ID||Text'\n",
    "train_txt = pd.read_csv(address_prefix + 'training_text', sep = '\\|\\|')\n",
    "print(train_txt)"
   ]
  },
  {
   "cell_type": "markdown",
   "metadata": {},
   "source": [
    "## 2 The variants data tables"
   ]
  },
  {
   "cell_type": "markdown",
   "metadata": {},
   "source": [
    "### 2.1 First table overviews of the data:"
   ]
  },
  {
   "cell_type": "code",
   "execution_count": 158,
   "metadata": {},
   "outputs": [
    {
     "data": {
      "text/html": [
       "<div>\n",
       "<style>\n",
       "    .dataframe thead tr:only-child th {\n",
       "        text-align: right;\n",
       "    }\n",
       "\n",
       "    .dataframe thead th {\n",
       "        text-align: left;\n",
       "    }\n",
       "\n",
       "    .dataframe tbody tr th {\n",
       "        vertical-align: top;\n",
       "    }\n",
       "</style>\n",
       "<table border=\"1\" class=\"dataframe\">\n",
       "  <thead>\n",
       "    <tr style=\"text-align: right;\">\n",
       "      <th></th>\n",
       "      <th>ID</th>\n",
       "    </tr>\n",
       "  </thead>\n",
       "  <tbody>\n",
       "    <tr>\n",
       "      <th>count</th>\n",
       "      <td>5668.000000</td>\n",
       "    </tr>\n",
       "    <tr>\n",
       "      <th>mean</th>\n",
       "      <td>2833.500000</td>\n",
       "    </tr>\n",
       "    <tr>\n",
       "      <th>std</th>\n",
       "      <td>1636.354994</td>\n",
       "    </tr>\n",
       "    <tr>\n",
       "      <th>min</th>\n",
       "      <td>0.000000</td>\n",
       "    </tr>\n",
       "    <tr>\n",
       "      <th>25%</th>\n",
       "      <td>1416.750000</td>\n",
       "    </tr>\n",
       "    <tr>\n",
       "      <th>50%</th>\n",
       "      <td>2833.500000</td>\n",
       "    </tr>\n",
       "    <tr>\n",
       "      <th>75%</th>\n",
       "      <td>4250.250000</td>\n",
       "    </tr>\n",
       "    <tr>\n",
       "      <th>max</th>\n",
       "      <td>5667.000000</td>\n",
       "    </tr>\n",
       "  </tbody>\n",
       "</table>\n",
       "</div>"
      ],
      "text/plain": [
       "                ID\n",
       "count  5668.000000\n",
       "mean   2833.500000\n",
       "std    1636.354994\n",
       "min       0.000000\n",
       "25%    1416.750000\n",
       "50%    2833.500000\n",
       "75%    4250.250000\n",
       "max    5667.000000"
      ]
     },
     "execution_count": 158,
     "metadata": {},
     "output_type": "execute_result"
    }
   ],
   "source": [
    "test.describe()"
   ]
  },
  {
   "cell_type": "code",
   "execution_count": 159,
   "metadata": {},
   "outputs": [
    {
     "data": {
      "text/html": [
       "<div>\n",
       "<style>\n",
       "    .dataframe thead tr:only-child th {\n",
       "        text-align: right;\n",
       "    }\n",
       "\n",
       "    .dataframe thead th {\n",
       "        text-align: left;\n",
       "    }\n",
       "\n",
       "    .dataframe tbody tr th {\n",
       "        vertical-align: top;\n",
       "    }\n",
       "</style>\n",
       "<table border=\"1\" class=\"dataframe\">\n",
       "  <thead>\n",
       "    <tr style=\"text-align: right;\">\n",
       "      <th></th>\n",
       "      <th>ID</th>\n",
       "      <th>Gene</th>\n",
       "      <th>Variation</th>\n",
       "      <th>Class</th>\n",
       "    </tr>\n",
       "  </thead>\n",
       "  <tbody>\n",
       "    <tr>\n",
       "      <th>0</th>\n",
       "      <td>0</td>\n",
       "      <td>FAM58A</td>\n",
       "      <td>Truncating Mutations</td>\n",
       "      <td>1</td>\n",
       "    </tr>\n",
       "    <tr>\n",
       "      <th>1</th>\n",
       "      <td>1</td>\n",
       "      <td>CBL</td>\n",
       "      <td>W802*</td>\n",
       "      <td>2</td>\n",
       "    </tr>\n",
       "    <tr>\n",
       "      <th>2</th>\n",
       "      <td>2</td>\n",
       "      <td>CBL</td>\n",
       "      <td>Q249E</td>\n",
       "      <td>2</td>\n",
       "    </tr>\n",
       "    <tr>\n",
       "      <th>3</th>\n",
       "      <td>3</td>\n",
       "      <td>CBL</td>\n",
       "      <td>N454D</td>\n",
       "      <td>3</td>\n",
       "    </tr>\n",
       "    <tr>\n",
       "      <th>4</th>\n",
       "      <td>4</td>\n",
       "      <td>CBL</td>\n",
       "      <td>L399V</td>\n",
       "      <td>4</td>\n",
       "    </tr>\n",
       "    <tr>\n",
       "      <th>5</th>\n",
       "      <td>5</td>\n",
       "      <td>CBL</td>\n",
       "      <td>V391I</td>\n",
       "      <td>4</td>\n",
       "    </tr>\n",
       "    <tr>\n",
       "      <th>6</th>\n",
       "      <td>6</td>\n",
       "      <td>CBL</td>\n",
       "      <td>V430M</td>\n",
       "      <td>5</td>\n",
       "    </tr>\n",
       "    <tr>\n",
       "      <th>7</th>\n",
       "      <td>7</td>\n",
       "      <td>CBL</td>\n",
       "      <td>Deletion</td>\n",
       "      <td>1</td>\n",
       "    </tr>\n",
       "    <tr>\n",
       "      <th>8</th>\n",
       "      <td>8</td>\n",
       "      <td>CBL</td>\n",
       "      <td>Y371H</td>\n",
       "      <td>4</td>\n",
       "    </tr>\n",
       "    <tr>\n",
       "      <th>9</th>\n",
       "      <td>9</td>\n",
       "      <td>CBL</td>\n",
       "      <td>C384R</td>\n",
       "      <td>4</td>\n",
       "    </tr>\n",
       "    <tr>\n",
       "      <th>10</th>\n",
       "      <td>10</td>\n",
       "      <td>CBL</td>\n",
       "      <td>P395A</td>\n",
       "      <td>4</td>\n",
       "    </tr>\n",
       "    <tr>\n",
       "      <th>11</th>\n",
       "      <td>11</td>\n",
       "      <td>CBL</td>\n",
       "      <td>K382E</td>\n",
       "      <td>4</td>\n",
       "    </tr>\n",
       "    <tr>\n",
       "      <th>12</th>\n",
       "      <td>12</td>\n",
       "      <td>CBL</td>\n",
       "      <td>R420Q</td>\n",
       "      <td>4</td>\n",
       "    </tr>\n",
       "    <tr>\n",
       "      <th>13</th>\n",
       "      <td>13</td>\n",
       "      <td>CBL</td>\n",
       "      <td>C381A</td>\n",
       "      <td>4</td>\n",
       "    </tr>\n",
       "    <tr>\n",
       "      <th>14</th>\n",
       "      <td>14</td>\n",
       "      <td>CBL</td>\n",
       "      <td>P428L</td>\n",
       "      <td>5</td>\n",
       "    </tr>\n",
       "  </tbody>\n",
       "</table>\n",
       "</div>"
      ],
      "text/plain": [
       "    ID    Gene             Variation  Class\n",
       "0    0  FAM58A  Truncating Mutations      1\n",
       "1    1     CBL                 W802*      2\n",
       "2    2     CBL                 Q249E      2\n",
       "3    3     CBL                 N454D      3\n",
       "4    4     CBL                 L399V      4\n",
       "5    5     CBL                 V391I      4\n",
       "6    6     CBL                 V430M      5\n",
       "7    7     CBL              Deletion      1\n",
       "8    8     CBL                 Y371H      4\n",
       "9    9     CBL                 C384R      4\n",
       "10  10     CBL                 P395A      4\n",
       "11  11     CBL                 K382E      4\n",
       "12  12     CBL                 R420Q      4\n",
       "13  13     CBL                 C381A      4\n",
       "14  14     CBL                 P428L      5"
      ]
     },
     "execution_count": 159,
     "metadata": {},
     "output_type": "execute_result"
    }
   ],
   "source": [
    "train.head(15)"
   ]
  },
  {
   "cell_type": "code",
   "execution_count": 160,
   "metadata": {},
   "outputs": [
    {
     "data": {
      "text/html": [
       "<div>\n",
       "<style>\n",
       "    .dataframe thead tr:only-child th {\n",
       "        text-align: right;\n",
       "    }\n",
       "\n",
       "    .dataframe thead th {\n",
       "        text-align: left;\n",
       "    }\n",
       "\n",
       "    .dataframe tbody tr th {\n",
       "        vertical-align: top;\n",
       "    }\n",
       "</style>\n",
       "<table border=\"1\" class=\"dataframe\">\n",
       "  <thead>\n",
       "    <tr style=\"text-align: right;\">\n",
       "      <th></th>\n",
       "      <th>ID</th>\n",
       "      <th>Gene</th>\n",
       "      <th>Variation</th>\n",
       "    </tr>\n",
       "  </thead>\n",
       "  <tbody>\n",
       "    <tr>\n",
       "      <th>0</th>\n",
       "      <td>0</td>\n",
       "      <td>ACSL4</td>\n",
       "      <td>R570S</td>\n",
       "    </tr>\n",
       "    <tr>\n",
       "      <th>1</th>\n",
       "      <td>1</td>\n",
       "      <td>NAGLU</td>\n",
       "      <td>P521L</td>\n",
       "    </tr>\n",
       "    <tr>\n",
       "      <th>2</th>\n",
       "      <td>2</td>\n",
       "      <td>PAH</td>\n",
       "      <td>L333F</td>\n",
       "    </tr>\n",
       "    <tr>\n",
       "      <th>3</th>\n",
       "      <td>3</td>\n",
       "      <td>ING1</td>\n",
       "      <td>A148D</td>\n",
       "    </tr>\n",
       "    <tr>\n",
       "      <th>4</th>\n",
       "      <td>4</td>\n",
       "      <td>TMEM216</td>\n",
       "      <td>G77A</td>\n",
       "    </tr>\n",
       "    <tr>\n",
       "      <th>5</th>\n",
       "      <td>5</td>\n",
       "      <td>CD40LG</td>\n",
       "      <td>A123E</td>\n",
       "    </tr>\n",
       "    <tr>\n",
       "      <th>6</th>\n",
       "      <td>6</td>\n",
       "      <td>KLF11</td>\n",
       "      <td>T220M</td>\n",
       "    </tr>\n",
       "    <tr>\n",
       "      <th>7</th>\n",
       "      <td>7</td>\n",
       "      <td>SGCB</td>\n",
       "      <td>T151R</td>\n",
       "    </tr>\n",
       "    <tr>\n",
       "      <th>8</th>\n",
       "      <td>8</td>\n",
       "      <td>CLCF1</td>\n",
       "      <td>R197L</td>\n",
       "    </tr>\n",
       "    <tr>\n",
       "      <th>9</th>\n",
       "      <td>9</td>\n",
       "      <td>SDHAF1</td>\n",
       "      <td>R55P</td>\n",
       "    </tr>\n",
       "    <tr>\n",
       "      <th>10</th>\n",
       "      <td>10</td>\n",
       "      <td>SPTLC2</td>\n",
       "      <td>I504F</td>\n",
       "    </tr>\n",
       "    <tr>\n",
       "      <th>11</th>\n",
       "      <td>11</td>\n",
       "      <td>SUMF1</td>\n",
       "      <td>A348P</td>\n",
       "    </tr>\n",
       "    <tr>\n",
       "      <th>12</th>\n",
       "      <td>12</td>\n",
       "      <td>TET2</td>\n",
       "      <td>Y1902A</td>\n",
       "    </tr>\n",
       "    <tr>\n",
       "      <th>13</th>\n",
       "      <td>13</td>\n",
       "      <td>G6PD</td>\n",
       "      <td>D312H</td>\n",
       "    </tr>\n",
       "    <tr>\n",
       "      <th>14</th>\n",
       "      <td>14</td>\n",
       "      <td>SNCB</td>\n",
       "      <td>P123H</td>\n",
       "    </tr>\n",
       "  </tbody>\n",
       "</table>\n",
       "</div>"
      ],
      "text/plain": [
       "    ID     Gene Variation\n",
       "0    0    ACSL4     R570S\n",
       "1    1    NAGLU     P521L\n",
       "2    2      PAH     L333F\n",
       "3    3     ING1     A148D\n",
       "4    4  TMEM216      G77A\n",
       "5    5   CD40LG     A123E\n",
       "6    6    KLF11     T220M\n",
       "7    7     SGCB     T151R\n",
       "8    8    CLCF1     R197L\n",
       "9    9   SDHAF1      R55P\n",
       "10  10   SPTLC2     I504F\n",
       "11  11    SUMF1     A348P\n",
       "12  12     TET2    Y1902A\n",
       "13  13     G6PD     D312H\n",
       "14  14     SNCB     P123H"
      ]
     },
     "execution_count": 160,
     "metadata": {},
     "output_type": "execute_result"
    }
   ],
   "source": [
    "test.head(15)"
   ]
  },
  {
   "cell_type": "code",
   "execution_count": 161,
   "metadata": {},
   "outputs": [
    {
     "name": "stdout",
     "output_type": "stream",
     "text": [
      "train_shape: (3321, 4) test_shape: (5668, 3)\n"
     ]
    }
   ],
   "source": [
    "print(\"train_shape:\", train.shape, \"test_shape:\", test.shape)"
   ]
  },
  {
   "cell_type": "code",
   "execution_count": 162,
   "metadata": {},
   "outputs": [
    {
     "data": {
      "text/plain": [
       "BRCA1     264\n",
       "TP53      163\n",
       "EGFR      141\n",
       "PTEN      126\n",
       "BRCA2     125\n",
       "KIT        99\n",
       "BRAF       93\n",
       "ERBB2      69\n",
       "ALK        69\n",
       "PDGFRA     60\n",
       "PIK3CA     56\n",
       "CDKN2A     52\n",
       "FGFR2      50\n",
       "FLT3       49\n",
       "TSC2       47\n",
       "MTOR       45\n",
       "KRAS       44\n",
       "MAP2K1     43\n",
       "VHL        41\n",
       "RET        40\n",
       "FGFR3      39\n",
       "MLH1       35\n",
       "SMAD4      33\n",
       "JAK2       33\n",
       "MET        33\n",
       "NOTCH1     31\n",
       "AKT1       28\n",
       "ABL1       26\n",
       "ROS1       26\n",
       "PTPN11     26\n",
       "         ... \n",
       "FAM58A      1\n",
       "BCL2        1\n",
       "GNA11       1\n",
       "ASXL2       1\n",
       "FGF19       1\n",
       "CEBPA       1\n",
       "SHQ1        1\n",
       "RAD51B      1\n",
       "BARD1       1\n",
       "IKBKE       1\n",
       "SDHC        1\n",
       "PIK3R3      1\n",
       "JUN         1\n",
       "ARID5B      1\n",
       "CTLA4       1\n",
       "WHSC1       1\n",
       "FGF4        1\n",
       "TCF7L2      1\n",
       "RARA        1\n",
       "SRSF2       1\n",
       "CDKN2C      1\n",
       "DUSP4       1\n",
       "RAD54L      1\n",
       "RRAS2       1\n",
       "CDK8        1\n",
       "GNAQ        1\n",
       "IL7R        1\n",
       "HLA-B       1\n",
       "SDHB        1\n",
       "TCF3        1\n",
       "Name: Gene, Length: 264, dtype: int64"
      ]
     },
     "execution_count": 162,
     "metadata": {},
     "output_type": "execute_result"
    }
   ],
   "source": [
    "train['Gene'].value_counts()"
   ]
  },
  {
   "cell_type": "code",
   "execution_count": 163,
   "metadata": {},
   "outputs": [
    {
     "data": {
      "text/plain": [
       "Truncating Mutations            93\n",
       "Deletion                        74\n",
       "Amplification                   71\n",
       "Fusions                         34\n",
       "Overexpression                   6\n",
       "G12V                             4\n",
       "T58I                             3\n",
       "Q61H                             3\n",
       "Q61L                             3\n",
       "Q61R                             3\n",
       "E17K                             3\n",
       "I31M                             2\n",
       "P130S                            2\n",
       "Promoter Hypermethylation        2\n",
       "G13C                             2\n",
       "F384L                            2\n",
       "K117N                            2\n",
       "Q209L                            2\n",
       "V321M                            2\n",
       "ETV6-NTRK3 Fusion                2\n",
       "A146V                            2\n",
       "G67R                             2\n",
       "Y64A                             2\n",
       "G13D                             2\n",
       "R170W                            2\n",
       "A146T                            2\n",
       "T286A                            2\n",
       "S308A                            2\n",
       "G12C                             2\n",
       "T73I                             2\n",
       "                                ..\n",
       "D737N                            1\n",
       "K83E                             1\n",
       "T605M                            1\n",
       "Y599_D600insSTDNEYFYVDFREYEY     1\n",
       "R776C                            1\n",
       "D450H                            1\n",
       "I562M                            1\n",
       "S170N                            1\n",
       "L321A                            1\n",
       "S567L                            1\n",
       "Y35C                             1\n",
       "G1529R                           1\n",
       "P151H                            1\n",
       "V45L                             1\n",
       "K38N                             1\n",
       "S59R                             1\n",
       "S267_D273dup                     1\n",
       "G17A                             1\n",
       "D816E                            1\n",
       "G356A                            1\n",
       "T730S                            1\n",
       "F1088Sfs*2                       1\n",
       "N71K                             1\n",
       "K22A                             1\n",
       "D289del                          1\n",
       "Y149D                            1\n",
       "G101S                            1\n",
       "S1986Y                           1\n",
       "R625D                            1\n",
       "R139G                            1\n",
       "Name: Variation, Length: 2996, dtype: int64"
      ]
     },
     "execution_count": 163,
     "metadata": {},
     "output_type": "execute_result"
    }
   ],
   "source": [
    "train['Variation'].value_counts()"
   ]
  },
  {
   "cell_type": "code",
   "execution_count": 164,
   "metadata": {},
   "outputs": [
    {
     "data": {
      "text/plain": [
       "7    953\n",
       "4    686\n",
       "1    568\n",
       "2    452\n",
       "6    275\n",
       "5    242\n",
       "3     89\n",
       "9     37\n",
       "8     19\n",
       "Name: Class, dtype: int64"
      ]
     },
     "execution_count": 164,
     "metadata": {},
     "output_type": "execute_result"
    }
   ],
   "source": [
    "train['Class'].value_counts()"
   ]
  },
  {
   "cell_type": "code",
   "execution_count": 165,
   "metadata": {},
   "outputs": [
    {
     "data": {
      "text/plain": [
       "F8          134\n",
       "CFTR         57\n",
       "F9           54\n",
       "G6PD         46\n",
       "GBA          39\n",
       "PAH          38\n",
       "AR           38\n",
       "CASR         37\n",
       "ARSA         30\n",
       "SCN4A        29\n",
       "VWF          29\n",
       "BRCA1        29\n",
       "SCN5A        27\n",
       "GLA          26\n",
       "LDLR         24\n",
       "HPRT1        24\n",
       "HEXA         24\n",
       "LPL          23\n",
       "TSHR         23\n",
       "OAT          22\n",
       "ABCA4        22\n",
       "TYR          22\n",
       "KCNQ1        21\n",
       "BTK          20\n",
       "PTEN         20\n",
       "HMBS         19\n",
       "BEST1        19\n",
       "TP53         19\n",
       "PROC         18\n",
       "NPC1         17\n",
       "           ... \n",
       "PDSS1         1\n",
       "CST3          1\n",
       "PCCA          1\n",
       "DOCK8         1\n",
       "FGFR1         1\n",
       "SIX6          1\n",
       "FAT1          1\n",
       "SLC25A12      1\n",
       "ZNF513        1\n",
       "RFXANK        1\n",
       "TUFM          1\n",
       "ALG2          1\n",
       "C1QTNF5       1\n",
       "SIL1          1\n",
       "FOXRED1       1\n",
       "PPP1R3A       1\n",
       "ATP13A2       1\n",
       "MUSK          1\n",
       "HIBCH         1\n",
       "FXYD2         1\n",
       "BRD4          1\n",
       "FOXC2         1\n",
       "TGFB1         1\n",
       "BANK1         1\n",
       "MYC           1\n",
       "GRXCR1        1\n",
       "ARID1A        1\n",
       "ANOS1         1\n",
       "HTRA1         1\n",
       "NOTCH2        1\n",
       "Name: Gene, Length: 1397, dtype: int64"
      ]
     },
     "execution_count": 165,
     "metadata": {},
     "output_type": "execute_result"
    }
   ],
   "source": [
    "test['Gene'].value_counts()"
   ]
  },
  {
   "cell_type": "code",
   "execution_count": 166,
   "metadata": {},
   "outputs": [
    {
     "data": {
      "text/plain": [
       "Truncating Mutations    18\n",
       "Deletion                14\n",
       "Amplification            8\n",
       "Fusions                  3\n",
       "G44D                     2\n",
       "M296I                    1\n",
       "N93S                     1\n",
       "A114V                    1\n",
       "A553T                    1\n",
       "L242R                    1\n",
       "S549N                    1\n",
       "V114I                    1\n",
       "G598V                    1\n",
       "V14L                     1\n",
       "D464G                    1\n",
       "E330A                    1\n",
       "G299E                    1\n",
       "R465W                    1\n",
       "I629V                    1\n",
       "P334R                    1\n",
       "I205T                    1\n",
       "R2228G                   1\n",
       "R611C                    1\n",
       "YAP1-TFE3 Fusion         1\n",
       "C345R                    1\n",
       "P128L                    1\n",
       "D203Y                    1\n",
       "L924P                    1\n",
       "P299L                    1\n",
       "Y251H                    1\n",
       "                        ..\n",
       "F573S                    1\n",
       "T791M                    1\n",
       "I141V                    1\n",
       "Q421K                    1\n",
       "S341L                    1\n",
       "N499S                    1\n",
       "R186W                    1\n",
       "A421V                    1\n",
       "S554G                    1\n",
       "R739Q                    1\n",
       "C112S                    1\n",
       "L12P                     1\n",
       "L151F                    1\n",
       "Y371C                    1\n",
       "C346S                    1\n",
       "Q334R                    1\n",
       "L410V                    1\n",
       "G264V                    1\n",
       "S87F                     1\n",
       "R91L                     1\n",
       "D375Y                    1\n",
       "R381Q                    1\n",
       "A65V                     1\n",
       "C283Y                    1\n",
       "L44P                     1\n",
       "D112G                    1\n",
       "G324S                    1\n",
       "Q252L                    1\n",
       "G70E                     1\n",
       "V339M                    1\n",
       "Name: Variation, Length: 5628, dtype: int64"
      ]
     },
     "execution_count": 166,
     "metadata": {},
     "output_type": "execute_result"
    }
   ],
   "source": [
    "test['Variation'].value_counts()"
   ]
  },
  {
   "cell_type": "code",
   "execution_count": 167,
   "metadata": {},
   "outputs": [
    {
     "data": {
      "text/plain": [
       "ID           0\n",
       "Gene         0\n",
       "Variation    0\n",
       "Class        0\n",
       "dtype: int64"
      ]
     },
     "execution_count": 167,
     "metadata": {},
     "output_type": "execute_result"
    }
   ],
   "source": [
    "train.isnull().sum()"
   ]
  },
  {
   "cell_type": "code",
   "execution_count": 168,
   "metadata": {},
   "outputs": [
    {
     "data": {
      "text/plain": [
       "ID           0\n",
       "Gene         0\n",
       "Variation    0\n",
       "dtype: int64"
      ]
     },
     "execution_count": 168,
     "metadata": {},
     "output_type": "execute_result"
    }
   ],
   "source": [
    "test.isnull().sum()"
   ]
  },
  {
   "cell_type": "markdown",
   "metadata": {},
   "source": [
    "### 2.2 Individual feature visualisations"
   ]
  },
  {
   "cell_type": "code",
   "execution_count": 169,
   "metadata": {},
   "outputs": [
    {
     "data": {
      "image/png": "[encoded data removed]",
      "text/plain": [
       "<matplotlib.figure.Figure at 0x1df5d3810f0>"
      ]
     },
     "metadata": {},
     "output_type": "display_data"
    }
   ],
   "source": [
    "ax = train['Gene'].value_counts()[:20].plot.bar()\n",
    "ax.set_xlabel(\"Gene\",size='xx-large')\n",
    "ax.set_ylabel(\"Count\",size='xx-large')\n",
    "plt.show()"
   ]
  },
  {
   "cell_type": "code",
   "execution_count": 170,
   "metadata": {},
   "outputs": [
    {
     "data": {
      "image/png": "[encoded data removed]",
      "text/plain": [
       "<matplotlib.figure.Figure at 0x1df5dc57438>"
      ]
     },
     "metadata": {},
     "output_type": "display_data"
    }
   ],
   "source": [
    "ax = test['Gene'].value_counts()[:20].plot.bar()\n",
    "ax.set_xlabel(\"Gene\", size='xx-large')\n",
    "ax.set_ylabel(\"Count\", size='xx-large')\n",
    "plt.show()"
   ]
  },
  {
   "cell_type": "code",
   "execution_count": 171,
   "metadata": {},
   "outputs": [
    {
     "data": {
      "image/png": "[encoded data removed]",
      "text/plain": [
       "<matplotlib.figure.Figure at 0x1df5d186048>"
      ]
     },
     "metadata": {},
     "output_type": "display_data"
    }
   ],
   "source": [
    "train_Variation_value_counts = train['Variation'].value_counts()\n",
    "train_Variation_value_counts.name = 'train_Variation'\n",
    "test_Variation_value_counts = test['Variation'].value_counts()\n",
    "test_Variation_value_counts.name = 'test_Variation'\n",
    "ax = pd.concat([train_Variation_value_counts, test_Variation_value_counts], axis=1, join='inner').plot.bar()\n",
    "ax.set_xlabel(\"Variation\", size='xx-large')\n",
    "ax.set_ylabel(\"Count\", size='xx-large')\n",
    "plt.show()"
   ]
  },
  {
   "cell_type": "code",
   "execution_count": 172,
   "metadata": {},
   "outputs": [
    {
     "data": {
      "image/png": "[encoded data removed]",
      "text/plain": [
       "<matplotlib.figure.Figure at 0x1df5edec278>"
      ]
     },
     "metadata": {},
     "output_type": "display_data"
    }
   ],
   "source": [
    "ax = train['Class'].value_counts().sort_index().plot.bar()\n",
    "ax.set_xlabel(\"Class\", size='xx-large')\n",
    "ax.set_ylabel(\"Count\", size='xx-large')\n",
    "plt.show()"
   ]
  },
  {
   "cell_type": "markdown",
   "metadata": {},
   "source": [
    "## 2.3 Feature interactions"
   ]
  },
  {
   "cell_type": "markdown",
   "metadata": {},
   "source": [
    "### 2.3.1 Genes vs Class"
   ]
  },
  {
   "cell_type": "code",
   "execution_count": 173,
   "metadata": {},
   "outputs": [
    {
     "name": "stderr",
     "output_type": "stream",
     "text": [
      "C:\\ProgramData\\Anaconda3\\lib\\site-packages\\matplotlib\\axes\\_base.py:3193: UserWarning: Attempting to set identical bottom==top results\n",
      "in singular transformations; automatically expanding.\n",
      "bottom=1.0, top=1.0\n",
      "  'bottom=%s, top=%s') % (bottom, top))\n"
     ]
    },
    {
     "data": {
      "image/png": "[encoded data removed]",
      "text/plain": [
       "<matplotlib.figure.Figure at 0x1df5da53f28>"
      ]
     },
     "metadata": {},
     "output_type": "display_data"
    }
   ],
   "source": [
    "fig, axes = plt.subplots(nrows=3, ncols=3, sharex=True)\n",
    "standard_index = train['Gene'].value_counts()[:20].sort_index().index\n",
    "for i in range(9):\n",
    "    current_series = train[train['Class']==(i+1)]['Gene'].value_counts()[standard_index].fillna(0).astype(np.int64)\n",
    "    ax = current_series.plot(ax=axes[i//3,i%3], kind='bar', logy=True)\n",
    "    ax.set_ylim(0,100)\n",
    "    ax.set_title(i+1)\n",
    "fig.text(0.5, 0, 'Gene', ha='center',size='xx-large')\n",
    "fig.text(0.08, 0.5, 'Count', va='center', rotation='vertical', size='xx-large')\n",
    "plt.show()"
   ]
  },
  {
   "cell_type": "code",
   "execution_count": 174,
   "metadata": {},
   "outputs": [
    {
     "data": {
      "image/png": "[encoded data removed]",
      "text/plain": [
       "<matplotlib.figure.Figure at 0x1df5d372240>"
      ]
     },
     "metadata": {},
     "output_type": "display_data"
    }
   ],
   "source": [
    "fig, axes = plt.subplots(nrows=4, ncols=5, sharex=True)\n",
    "most_frequent_Genes = train['Gene'].value_counts()[:20].sort_index().index\n",
    "ind = 0\n",
    "for gene in most_frequent_Genes:\n",
    "    current_series = train[train['Gene']==gene]['Class'].value_counts()\n",
    "    new_series = pd.Series(np.zeros(9),index=range(1,10))\n",
    "    new_series[current_series.index] = current_series.values\n",
    "    new_series.astype(np.int64)\n",
    "    ax = new_series.plot(ax=axes[ind // 5, ind % 5], kind='bar', logy=True)\n",
    "    ax.set_ylim(0,100)\n",
    "    ax.set_title(gene)\n",
    "    ind += 1\n",
    "fig.text(0.5, 0, 'Class', ha='center', size='xx-large')\n",
    "fig.text(0.08, 0.5, 'Count', va='center', rotation='vertical', size='xx-large')\n",
    "plt.show()"
   ]
  },
  {
   "cell_type": "markdown",
   "metadata": {},
   "source": [
    "## 3 The text files"
   ]
  },
  {
   "cell_type": "markdown",
   "metadata": {},
   "source": [
    "### 3.1 Overview"
   ]
  },
  {
   "cell_type": "code",
   "execution_count": null,
   "metadata": {
    "collapsed": true
   },
   "outputs": [],
   "source": []
  }
 ],
 "metadata": {
  "celltoolbar": "Raw Cell Format",
  "kernelspec": {
   "display_name": "Python 3",
   "language": "python",
   "name": "python3"
  },
  "language_info": {
   "codemirror_mode": {
    "name": "ipython",
    "version": 3
   },
   "file_extension": ".py",
   "mimetype": "text/x-python",
   "name": "python",
   "nbconvert_exporter": "python",
   "pygments_lexer": "ipython3",
   "version": "3.5.3"
  }
 },
 "nbformat": 4,
 "nbformat_minor": 2
}
